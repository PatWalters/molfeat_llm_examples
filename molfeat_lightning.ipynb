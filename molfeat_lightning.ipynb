{
 "cells": [
  {
   "cell_type": "code",
   "execution_count": 1,
   "metadata": {},
   "outputs": [],
   "source": [
    "%load_ext autoreload\n",
    "%autoreload 2"
   ]
  },
  {
   "cell_type": "code",
   "execution_count": 2,
   "metadata": {},
   "outputs": [],
   "source": [
    "#! pip install pynvml"
   ]
  },
  {
   "cell_type": "code",
   "execution_count": 3,
   "metadata": {},
   "outputs": [],
   "source": [
    "import torch\n",
    "# clear cuda cache\n",
    "torch.cuda.empty_cache()"
   ]
  },
  {
   "cell_type": "code",
   "execution_count": 4,
   "metadata": {},
   "outputs": [],
   "source": [
    "from pynvml import *\n",
    "def print_gpu_utilization(_print=True):\n",
    "    nvmlInit()\n",
    "    handle = nvmlDeviceGetHandleByIndex(0)\n",
    "    info = nvmlDeviceGetMemoryInfo(handle)\n",
    "    memory_used = info.used//1024**2\n",
    "    if _print:\n",
    "        print(f\"GPU memory occupied: {memory_used} MB\")\n",
    "    return memory_used"
   ]
  },
  {
   "cell_type": "code",
   "execution_count": 5,
   "metadata": {},
   "outputs": [],
   "source": [
    "#! pip install \"molfeat[all]\""
   ]
  },
  {
   "cell_type": "code",
   "execution_count": 6,
   "metadata": {},
   "outputs": [
    {
     "name": "stderr",
     "output_type": "stream",
     "text": [
      "2023-05-27 10:11:51.422350: I tensorflow/core/util/util.cc:169] oneDNN custom operations are on. You may see slightly different numerical results due to floating-point round-off errors from different computation orders. To turn them off, set the environment variable `TF_ENABLE_ONEDNN_OPTS=0`.\n"
     ]
    }
   ],
   "source": [
    "import torch\n",
    "import copy\n",
    "import pandas as pd\n",
    "import numpy as np\n",
    "from tqdm.auto import tqdm\n",
    "\n",
    "from torch.utils.data import Dataset\n",
    "from torch.utils.data import DataLoader\n",
    "from transformers import default_data_collator\n",
    "\n",
    "from sklearn.metrics import accuracy_score, roc_auc_score, mean_squared_error, r2_score\n",
    "from matplotlib import pyplot as plt\n",
    "import seaborn as sns\n",
    "\n",
    "import datamol as dm"
   ]
  },
  {
   "cell_type": "code",
   "execution_count": 7,
   "metadata": {},
   "outputs": [],
   "source": [
    "from molfeat.utils.converters import SmilesConverter\n",
    "from molfeat.trans.pretrained import PretrainedHFTransformer\n"
   ]
  },
  {
   "cell_type": "code",
   "execution_count": 8,
   "metadata": {},
   "outputs": [],
   "source": [
    "df = pd.read_csv(\"https://raw.githubusercontent.com/PatWalters/yamc/main/data/JAK2.smi\",sep=\" \",names=[\"SMILES\",\"Name\",\"pIC50\"])\n"
   ]
  },
  {
   "cell_type": "code",
   "execution_count": 9,
   "metadata": {},
   "outputs": [
    {
     "data": {
      "text/html": [
       "<div>\n",
       "<style scoped>\n",
       "    .dataframe tbody tr th:only-of-type {\n",
       "        vertical-align: middle;\n",
       "    }\n",
       "\n",
       "    .dataframe tbody tr th {\n",
       "        vertical-align: top;\n",
       "    }\n",
       "\n",
       "    .dataframe thead th {\n",
       "        text-align: right;\n",
       "    }\n",
       "</style>\n",
       "<table border=\"1\" class=\"dataframe\">\n",
       "  <thead>\n",
       "    <tr style=\"text-align: right;\">\n",
       "      <th></th>\n",
       "      <th>SMILES</th>\n",
       "      <th>Name</th>\n",
       "      <th>pIC50</th>\n",
       "    </tr>\n",
       "  </thead>\n",
       "  <tbody>\n",
       "    <tr>\n",
       "      <th>0</th>\n",
       "      <td>CC(C)(C)c1[nH]c2c3cc[nH]c(=O)c3c4cc(ccc4c2n1)F</td>\n",
       "      <td>CHEMBL21156</td>\n",
       "      <td>8.37000</td>\n",
       "    </tr>\n",
       "    <tr>\n",
       "      <th>1</th>\n",
       "      <td>CC1CCN(CC1N(C)c2c3cc[nH]c3ncn2)C(=O)CC#N</td>\n",
       "      <td>CHEMBL221959</td>\n",
       "      <td>7.62875</td>\n",
       "    </tr>\n",
       "    <tr>\n",
       "      <th>2</th>\n",
       "      <td>CC(COC)Nc1cc(nc(n1)n2cnc3c2cncc3)c4ccoc4</td>\n",
       "      <td>CHEMBL557844</td>\n",
       "      <td>6.85000</td>\n",
       "    </tr>\n",
       "    <tr>\n",
       "      <th>3</th>\n",
       "      <td>CC(c1ccc(cc1)F)Nc2cc(nc(n2)n3cnc4c3cncc4)c5ccoc5</td>\n",
       "      <td>CHEMBL221378</td>\n",
       "      <td>7.55000</td>\n",
       "    </tr>\n",
       "    <tr>\n",
       "      <th>4</th>\n",
       "      <td>CC(c1ccccc1)Nc2cc(nc(n2)n3cnc4c3cc(cc4)C#N)c5c...</td>\n",
       "      <td>CHEMBL375205</td>\n",
       "      <td>7.54000</td>\n",
       "    </tr>\n",
       "    <tr>\n",
       "      <th>...</th>\n",
       "      <td>...</td>\n",
       "      <td>...</td>\n",
       "      <td>...</td>\n",
       "    </tr>\n",
       "    <tr>\n",
       "      <th>2247</th>\n",
       "      <td>CNCCn1c2ccc(cc2nc1C3CCC(CC3)O)C(=O)N</td>\n",
       "      <td>CHEMBL3815154</td>\n",
       "      <td>5.41000</td>\n",
       "    </tr>\n",
       "    <tr>\n",
       "      <th>2248</th>\n",
       "      <td>CC(Cn1c2ccc(cc2nc1C3CCC(CC3)O)C(=O)N)O</td>\n",
       "      <td>CHEMBL3814406</td>\n",
       "      <td>4.92000</td>\n",
       "    </tr>\n",
       "    <tr>\n",
       "      <th>2249</th>\n",
       "      <td>c1cc2c(cc1C(=O)N)nc(n2CCCO)C3CCC(CC3)O</td>\n",
       "      <td>CHEMBL3814951</td>\n",
       "      <td>4.53000</td>\n",
       "    </tr>\n",
       "    <tr>\n",
       "      <th>2250</th>\n",
       "      <td>c1cc2c(cc1C(=O)N)nc(n2CCO)C3CCC(CC3)O</td>\n",
       "      <td>CHEMBL3814293</td>\n",
       "      <td>5.50000</td>\n",
       "    </tr>\n",
       "    <tr>\n",
       "      <th>2251</th>\n",
       "      <td>Cn1cc(cn1)c2cc(c3nnc(n3c2)Sc4ccc5c(c4)c6c(cn5)...</td>\n",
       "      <td>CHEMBL3818247</td>\n",
       "      <td>4.68000</td>\n",
       "    </tr>\n",
       "  </tbody>\n",
       "</table>\n",
       "<p>2252 rows × 3 columns</p>\n",
       "</div>"
      ],
      "text/plain": [
       "                                                 SMILES           Name  \\\n",
       "0        CC(C)(C)c1[nH]c2c3cc[nH]c(=O)c3c4cc(ccc4c2n1)F    CHEMBL21156   \n",
       "1              CC1CCN(CC1N(C)c2c3cc[nH]c3ncn2)C(=O)CC#N   CHEMBL221959   \n",
       "2              CC(COC)Nc1cc(nc(n1)n2cnc3c2cncc3)c4ccoc4   CHEMBL557844   \n",
       "3      CC(c1ccc(cc1)F)Nc2cc(nc(n2)n3cnc4c3cncc4)c5ccoc5   CHEMBL221378   \n",
       "4     CC(c1ccccc1)Nc2cc(nc(n2)n3cnc4c3cc(cc4)C#N)c5c...   CHEMBL375205   \n",
       "...                                                 ...            ...   \n",
       "2247               CNCCn1c2ccc(cc2nc1C3CCC(CC3)O)C(=O)N  CHEMBL3815154   \n",
       "2248             CC(Cn1c2ccc(cc2nc1C3CCC(CC3)O)C(=O)N)O  CHEMBL3814406   \n",
       "2249             c1cc2c(cc1C(=O)N)nc(n2CCCO)C3CCC(CC3)O  CHEMBL3814951   \n",
       "2250              c1cc2c(cc1C(=O)N)nc(n2CCO)C3CCC(CC3)O  CHEMBL3814293   \n",
       "2251  Cn1cc(cn1)c2cc(c3nnc(n3c2)Sc4ccc5c(c4)c6c(cn5)...  CHEMBL3818247   \n",
       "\n",
       "        pIC50  \n",
       "0     8.37000  \n",
       "1     7.62875  \n",
       "2     6.85000  \n",
       "3     7.55000  \n",
       "4     7.54000  \n",
       "...       ...  \n",
       "2247  5.41000  \n",
       "2248  4.92000  \n",
       "2249  4.53000  \n",
       "2250  5.50000  \n",
       "2251  4.68000  \n",
       "\n",
       "[2252 rows x 3 columns]"
      ]
     },
     "execution_count": 9,
     "metadata": {},
     "output_type": "execute_result"
    }
   ],
   "source": [
    "df"
   ]
  },
  {
   "cell_type": "code",
   "execution_count": 10,
   "metadata": {},
   "outputs": [],
   "source": [
    "class DTset(Dataset):\n",
    "    def __init__(self, smiles, y, mf_featurizer, max_length=128):\n",
    "        super().__init__()\n",
    "        self.smiles = smiles\n",
    "        self.mf_featurizer = mf_featurizer\n",
    "        self.y = torch.tensor(y).float()\n",
    "        # here we use the molfeat mf_featurizer to convert the smiles to\n",
    "        # corresponding tokens based on the internal tokenizer\n",
    "        # we just want the data from the batch encoding object\n",
    "        transformed_mols = dm.utils.parallelized(\n",
    "                self.mf_featurizer.converter.encode,\n",
    "                smiles,\n",
    "                n_jobs=1,\n",
    "        )\n",
    "        self.max_length = max_length\n",
    "        batch_encoding = self.mf_featurizer.featurizer.tokenizer(\n",
    "            transformed_mols,\n",
    "            add_special_tokens=True,\n",
    "            truncation=True,\n",
    "            max_length=self.max_length\n",
    "        )\n",
    "        self.examples = batch_encoding[\"input_ids\"]\n",
    "        self.examples = [{\"input_ids\": torch.tensor(e, dtype=torch.long)} for e in self.examples]\n",
    "        \n",
    "    @property\n",
    "    def embedding_dim(self):\n",
    "        return len(self.mf_featurizer)\n",
    "\n",
    "    def __len__(self):\n",
    "        return self.y.shape[0]\n",
    "    \n",
    "    def collate_fn(self, batch, **kwargs):\n",
    "        # We try to be a bit more clever here, only padding the batch and not the full dataset\n",
    "        # to reduce padding as much as possible and thus the memory\n",
    "        y = torch.tensor([feature[\"y\"] for feature in batch]).float()\n",
    "        inputs_features = [{\"input_ids\": ft[\"input_ids\"]} for ft in batch]\n",
    "        batch_inputs = self.mf_featurizer.featurizer.tokenizer.pad(\n",
    "            inputs_features,\n",
    "            padding=True,\n",
    "            return_tensors=\"pt\",\n",
    "            max_length=self.max_length,\n",
    "        )\n",
    "        # If special token mask has been preprocessed, pop it from the dict.\n",
    "        batch_inputs.update({\"y\": y})        \n",
    "        return batch_inputs.data\n",
    "    \n",
    "    def __getitem__(self, index):                        \n",
    "        datapoint = self.examples[index]\n",
    "        datapoint[\"y\"] = self.y[index]\n",
    "        return datapoint"
   ]
  },
  {
   "cell_type": "code",
   "execution_count": 11,
   "metadata": {},
   "outputs": [],
   "source": [
    "# install this\n",
    "#!pip install pytorch_lightning"
   ]
  },
  {
   "cell_type": "code",
   "execution_count": 12,
   "metadata": {},
   "outputs": [
    {
     "name": "stderr",
     "output_type": "stream",
     "text": [
      "/home/pwalters/anaconda3/envs/rdkit_2022_03/lib/python3.9/site-packages/torchvision/io/image.py:13: UserWarning: Failed to load image Python extension: libtorch_cuda_cu.so: cannot open shared object file: No such file or directory\n",
      "  warn(f\"Failed to load image Python extension: {e}\")\n"
     ]
    }
   ],
   "source": [
    "import pytorch_lightning as pl\n",
    "from pytorch_lightning.callbacks import TQDMProgressBar"
   ]
  },
  {
   "cell_type": "code",
   "execution_count": 14,
   "metadata": {},
   "outputs": [],
   "source": [
    "class AwesomeNetPL(pl.LightningModule):\n",
    "    def __init__(self,  mf_featurizer, hidden_size=128, dropout=0.1, output_size=1, lr=1e-3):\n",
    "        super().__init__()\n",
    "        self.hidden_size = hidden_size\n",
    "        self.output_size = output_size\n",
    "        self.lr = lr\n",
    "        # we get the underlying model from the molfeat featurizer\n",
    "        # here we fetch the \"base\" huggingface transformer model \n",
    "        # and not the wrapper around for MLM\n",
    "        # this is principally to get smaller model and training efficiency\n",
    "        base_pretrained_model = getattr(mf_featurizer.featurizer.model, mf_featurizer.featurizer.model.base_model_prefix)\n",
    "        self.embedding_layer = copy.deepcopy(base_pretrained_model)\n",
    "        self.embedding_dim = mf_featurizer.featurizer.model.config.hidden_size\n",
    "        \n",
    "        # given that we are not concatenating layers, the following is equivalent\n",
    "        # self.embedding_dim = len(mf_featurizer)\n",
    "        # we get the the pooling layer from the molfeat featurizer\n",
    "        self.pooling_layer = mf_featurizer._pooling_obj\n",
    "        self.hidden_layer = torch.nn.Sequential(\n",
    "            torch.nn.Dropout(p=dropout),\n",
    "            torch.nn.Linear(len(mf_featurizer), self.hidden_size),\n",
    "            torch.nn.ReLU()\n",
    "        )\n",
    "        self.output_layer = torch.nn.Linear(self.hidden_size, self.output_size)\n",
    "        self.loss_fn = torch.nn.MSELoss()\n",
    "\n",
    "    def forward(self, *, y=None, **kwargs):\n",
    "        # get embeddings\n",
    "        x = self.embedding_layer(**kwargs)\n",
    "        # we take the last hidden state\n",
    "        # you could also set `output_hidden_states` to true above \n",
    "        # and take x[\"hidden_states\"][-1] instead\n",
    "        emb = x[\"last_hidden_state\"]\n",
    "        # run poolings\n",
    "        h = self.pooling_layer(\n",
    "            emb,\n",
    "            kwargs[\"input_ids\"],\n",
    "            mask=kwargs.get('attention_mask'),\n",
    "        )\n",
    "        # run through our custom and optional hidden layer\n",
    "        h = self.hidden_layer(h)\n",
    "        # run through output layers to get logits\n",
    "        return self.output_layer(h)\n",
    "    \n",
    "    def training_step(self, batch, batch_idx):\n",
    "        # training_step defines the train loop.\n",
    "        # it is independent of forward\n",
    "        out = self(**batch)\n",
    "        loss = self.loss_fn(out.squeeze(), batch[\"y\"])\n",
    "        # Logging to TensorBoard (if installed) by default\n",
    "        memory_used = print_gpu_utilization(False)\n",
    "        self.log_dict({\"train_loss\":loss, 'GPU':memory_used}, on_step=True, on_epoch=True, prog_bar=True, logger=True)\n",
    "        return loss\n",
    "    \n",
    "    def validation_step(self, batch, batch_idx):\n",
    "        # training_step defines the train loop.\n",
    "        # it is independent of forward\n",
    "        out = self(**batch)\n",
    "        loss = self.loss_fn(out.squeeze(), batch[\"y\"])\n",
    "        # Logging to TensorBoard (if installed) by default\n",
    "        self.log(\"valid_loss\", loss, on_epoch=True, prog_bar=True, logger=True)\n",
    "        return loss\n",
    "\n",
    "    def configure_optimizers(self):\n",
    "        optimizer = torch.optim.Adam(self.trainer.model.parameters(), lr=self.lr)\n",
    "        return optimizer\n"
   ]
  },
  {
   "cell_type": "code",
   "execution_count": 15,
   "metadata": {},
   "outputs": [],
   "source": [
    "#featurizer = PretrainedHFTransformer(kind='ChemGPT-1.2B', notation='selfies', dtype=float, preload=True)\n",
    "featurizer = PretrainedHFTransformer(kind=\"ChemBERTa-77M-MLM\", pooling=\"bert\", preload=True)\n",
    "\n",
    "model = AwesomeNetPL(featurizer, hidden_size=64, dropout=0.1, output_size=1)"
   ]
  },
  {
   "cell_type": "code",
   "execution_count": 16,
   "metadata": {},
   "outputs": [
    {
     "data": {
      "text/plain": [
       "  | Name            | Type         | Params\n",
       "-------------------------------------------------\n",
       "0 | embedding_layer | RobertaModel | 3.3 M \n",
       "1 | pooling_layer   | BertPooler   | 147 K \n",
       "2 | hidden_layer    | Sequential   | 24.6 K\n",
       "3 | output_layer    | Linear       | 65    \n",
       "4 | loss_fn         | MSELoss      | 0     \n",
       "-------------------------------------------------\n",
       "3.5 M     Trainable params\n",
       "0         Non-trainable params\n",
       "3.5 M     Total params\n",
       "13.809    Total estimated model params size (MB)"
      ]
     },
     "execution_count": 16,
     "metadata": {},
     "output_type": "execute_result"
    }
   ],
   "source": [
    "from pytorch_lightning.utilities.model_summary import summarize\n",
    "summarize(model)"
   ]
  },
  {
   "cell_type": "code",
   "execution_count": 27,
   "metadata": {},
   "outputs": [],
   "source": [
    "%matplotlib inline\n",
    "def train_and_test_model(featurizer, model, batch_size=64, precision=64, accumulate_grad_batches=4, max_epochs=100, devices=\"auto\"):\n",
    "    dataset = DTset(df.SMILES.values, df.pIC50.values, featurizer)\n",
    "    generator = torch.Generator().manual_seed(42)\n",
    "    train_dt, test_dt = torch.utils.data.random_split(dataset, [0.8, 0.2], generator=generator)\n",
    "    # collate fn is not called anymore, but instead is a function passed to the dataloader\n",
    "    train_loader = DataLoader(train_dt, batch_size=batch_size, shuffle=True, collate_fn=dataset.collate_fn)\n",
    "    test_loader = DataLoader(test_dt, batch_size=batch_size, shuffle=False, collate_fn=dataset.collate_fn)\n",
    "    # select GPU accelerator , possibily explore different strategy\n",
    "    trainer = pl.Trainer(max_epochs=max_epochs, accelerator=\"gpu\", devices=devices, accumulate_grad_batches=accumulate_grad_batches, precision=precision)\n",
    "    trainer.fit(model=model, train_dataloaders=train_loader)\n",
    "    # --- test\n",
    "    model.eval()\n",
    "    test_y_hat = []\n",
    "    test_y_true = []\n",
    "    with torch.no_grad():\n",
    "        for data in test_loader:\n",
    "            for k,v in data.items():\n",
    "                data[k] = data[k].to(model.device)\n",
    "            out = model(**data)\n",
    "            test_y_hat.append(out.detach().cpu().squeeze())\n",
    "            test_y_true.append(data[\"y\"])\n",
    "    test_y_hat = torch.cat(test_y_hat).cpu().squeeze().numpy()\n",
    "    test_y_true = torch.cat(test_y_true).cpu().squeeze().numpy()\n",
    "    rmse = mean_squared_error(test_y_true, test_y_hat, squared=False)\n",
    "    r2 = r2_score(test_y_true, test_y_hat)\n",
    "    print(f\"RMSE = {rmse:.2f} R**2 = {r2:.2f}\")\n",
    "    sns.scatterplot(x=test_y_true, y=test_y_hat)\n",
    "    return trainer, model"
   ]
  },
  {
   "cell_type": "code",
   "execution_count": 28,
   "metadata": {},
   "outputs": [
    {
     "name": "stderr",
     "output_type": "stream",
     "text": [
      "INFO:pytorch_lightning.utilities.rank_zero:GPU available: True (cuda), used: True\n",
      "INFO:pytorch_lightning.utilities.rank_zero:TPU available: False, using: 0 TPU cores\n",
      "INFO:pytorch_lightning.utilities.rank_zero:IPU available: False, using: 0 IPUs\n",
      "INFO:pytorch_lightning.utilities.rank_zero:HPU available: False, using: 0 HPUs\n",
      "/home/pwalters/anaconda3/envs/rdkit_2022_03/lib/python3.9/site-packages/pytorch_lightning/trainer/configuration_validator.py:108: PossibleUserWarning: You defined a `validation_step` but have no `val_dataloader`. Skipping val loop.\n",
      "  rank_zero_warn(\n",
      "INFO:pytorch_lightning.utilities.rank_zero:You are using a CUDA device ('NVIDIA Graphics Device') that has Tensor Cores. To properly utilize them, you should set `torch.set_float32_matmul_precision('medium' | 'high')` which will trade-off precision for performance. For more details, read https://pytorch.org/docs/stable/generated/torch.set_float32_matmul_precision.html#torch.set_float32_matmul_precision\n",
      "INFO:pytorch_lightning.accelerators.cuda:LOCAL_RANK: 0 - CUDA_VISIBLE_DEVICES: [0]\n",
      "INFO:pytorch_lightning.callbacks.model_summary:\n",
      "  | Name            | Type         | Params\n",
      "-------------------------------------------------\n",
      "0 | embedding_layer | RobertaModel | 3.3 M \n",
      "1 | pooling_layer   | BertPooler   | 147 K \n",
      "2 | hidden_layer    | Sequential   | 24.6 K\n",
      "3 | output_layer    | Linear       | 65    \n",
      "4 | loss_fn         | MSELoss      | 0     \n",
      "-------------------------------------------------\n",
      "3.5 M     Trainable params\n",
      "0         Non-trainable params\n",
      "3.5 M     Total params\n",
      "27.617    Total estimated model params size (MB)\n",
      "/home/pwalters/anaconda3/envs/rdkit_2022_03/lib/python3.9/site-packages/pytorch_lightning/trainer/connectors/data_connector.py:224: PossibleUserWarning: The dataloader, train_dataloader, does not have many workers which may be a bottleneck. Consider increasing the value of the `num_workers` argument` (try 48 which is the number of cpus on this machine) in the `DataLoader` init to improve performance.\n",
      "  rank_zero_warn(\n",
      "/home/pwalters/anaconda3/envs/rdkit_2022_03/lib/python3.9/site-packages/pytorch_lightning/trainer/trainer.py:1609: PossibleUserWarning: The number of training batches (29) is smaller than the logging interval Trainer(log_every_n_steps=50). Set a lower value for log_every_n_steps if you want to see logs for the training epoch.\n",
      "  rank_zero_warn(\n"
     ]
    },
    {
     "data": {
      "application/vnd.jupyter.widget-view+json": {
       "model_id": "818096ef0d214740b2c3be47dbafcef2",
       "version_major": 2,
       "version_minor": 0
      },
      "text/plain": [
       "Training: 0it [00:00, ?it/s]"
      ]
     },
     "metadata": {},
     "output_type": "display_data"
    },
    {
     "name": "stderr",
     "output_type": "stream",
     "text": [
      "/home/pwalters/anaconda3/envs/rdkit_2022_03/lib/python3.9/site-packages/transformers/tokenization_utils_base.py:2364: UserWarning: `max_length` is ignored when `padding`=`True` and there is no truncation strategy. To pad to max length, use `padding='max_length'`.\n",
      "  warnings.warn(\n",
      "INFO:pytorch_lightning.utilities.rank_zero:`Trainer.fit` stopped: `max_epochs=100` reached.\n"
     ]
    },
    {
     "name": "stdout",
     "output_type": "stream",
     "text": [
      "RMSE = 0.95 R**2 = 0.35\n"
     ]
    },
    {
     "data": {
      "image/png": "[encoded data removed]",
      "text/plain": [
       "<Figure size 640x480 with 1 Axes>"
      ]
     },
     "metadata": {},
     "output_type": "display_data"
    }
   ],
   "source": [
    "trainer, model = train_and_test_model(featurizer, model, devices=[0])"
   ]
  },
  {
   "cell_type": "code",
   "execution_count": null,
   "metadata": {},
   "outputs": [],
   "source": []
  }
 ],
 "metadata": {
  "kernelspec": {
   "display_name": "Python 3 (ipykernel)",
   "language": "python",
   "name": "python3"
  },
  "language_info": {
   "codemirror_mode": {
    "name": "ipython",
    "version": 3
   },
   "file_extension": ".py",
   "mimetype": "text/x-python",
   "name": "python",
   "nbconvert_exporter": "python",
   "pygments_lexer": "ipython3",
   "version": "3.9.10"
  }
 },
 "nbformat": 4,
 "nbformat_minor": 4
}
