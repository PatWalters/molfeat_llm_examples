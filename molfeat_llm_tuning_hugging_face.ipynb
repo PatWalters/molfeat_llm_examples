{
 "cells": [
  {
   "cell_type": "markdown",
   "id": "c0b8b998",
   "metadata": {},
   "source": [
    "This code is a minor modification of the molfeat example https://molfeat-docs.datamol.io/stable/tutorials/pyg_integration.html"
   ]
  },
  {
   "cell_type": "code",
   "execution_count": 1,
   "id": "b40a7036",
   "metadata": {},
   "outputs": [],
   "source": [
    "%load_ext autoreload\n",
    "%autoreload 2"
   ]
  },
  {
   "cell_type": "code",
   "execution_count": 2,
   "id": "ffee1b50",
   "metadata": {},
   "outputs": [],
   "source": [
    "from pynvml import *"
   ]
  },
  {
   "cell_type": "code",
   "execution_count": 3,
   "id": "aee81437",
   "metadata": {},
   "outputs": [],
   "source": [
    "def print_gpu_utilization():\n",
    "    nvmlInit()\n",
    "    handle = nvmlDeviceGetHandleByIndex(0)\n",
    "    info = nvmlDeviceGetMemoryInfo(handle)\n",
    "    print(f\"GPU memory occupied: {info.used//1024**2} MB.\")"
   ]
  },
  {
   "cell_type": "code",
   "execution_count": 4,
   "id": "869d4f2d",
   "metadata": {},
   "outputs": [
    {
     "name": "stderr",
     "output_type": "stream",
     "text": [
      "2023-05-22 23:24:47.887523: I tensorflow/core/util/util.cc:169] oneDNN custom operations are on. You may see slightly different numerical results due to floating-point round-off errors from different computation orders. To turn them off, set the environment variable `TF_ENABLE_ONEDNN_OPTS=0`.\n"
     ]
    }
   ],
   "source": [
    "import torch\n",
    "import copy\n",
    "import pandas as pd\n",
    "import numpy as np\n",
    "from tqdm.auto import tqdm\n",
    "\n",
    "from torch.utils.data import Dataset\n",
    "from torch.utils.data import DataLoader\n",
    "from transformers import default_data_collator\n",
    "\n",
    "from sklearn.metrics import accuracy_score, roc_auc_score, mean_squared_error, r2_score\n",
    "from matplotlib import pyplot as plt\n",
    "import seaborn as sns\n",
    "\n",
    "from sklearn.model_selection import train_test_split\n",
    "\n",
    "import datamol as dm"
   ]
  },
  {
   "cell_type": "code",
   "execution_count": 5,
   "id": "eb58f323",
   "metadata": {},
   "outputs": [],
   "source": [
    "torch.cuda.empty_cache()"
   ]
  },
  {
   "cell_type": "code",
   "execution_count": 6,
   "id": "9b64e411",
   "metadata": {},
   "outputs": [
    {
     "name": "stdout",
     "output_type": "stream",
     "text": [
      "GPU memory occupied: 2200 MB.\n"
     ]
    }
   ],
   "source": [
    "print_gpu_utilization()"
   ]
  },
  {
   "cell_type": "code",
   "execution_count": 7,
   "id": "2b2293ab",
   "metadata": {},
   "outputs": [],
   "source": [
    "from molfeat.utils.converters import SmilesConverter\n",
    "from molfeat.trans.pretrained import PretrainedHFTransformer"
   ]
  },
  {
   "cell_type": "code",
   "execution_count": 8,
   "id": "8c5a7ea6",
   "metadata": {},
   "outputs": [
    {
     "name": "stderr",
     "output_type": "stream",
     "text": [
      "WARNING:google.auth.compute_engine._metadata:Compute Engine Metadata server unavailable on attempt 1 of 3. Reason: timed out\n",
      "WARNING:google.auth.compute_engine._metadata:Compute Engine Metadata server unavailable on attempt 2 of 3. Reason: [Errno 113] No route to host\n",
      "WARNING:google.auth.compute_engine._metadata:Compute Engine Metadata server unavailable on attempt 3 of 3. Reason: timed out\n",
      "WARNING:google.auth._default:Authentication failed using Compute Engine authentication due to unavailable metadata server.\n",
      "WARNING:google.auth.compute_engine._metadata:Compute Engine Metadata server unavailable on attempt 1 of 5. Reason: HTTPConnectionPool(host='metadata.google.internal', port=80): Max retries exceeded with url: /computeMetadata/v1/instance/service-accounts/default/?recursive=true (Caused by NewConnectionError('<urllib3.connection.HTTPConnection object at 0x7f6cff9793a0>: Failed to establish a new connection: [Errno -2] Name or service not known'))\n",
      "WARNING:google.auth.compute_engine._metadata:Compute Engine Metadata server unavailable on attempt 2 of 5. Reason: HTTPConnectionPool(host='metadata.google.internal', port=80): Max retries exceeded with url: /computeMetadata/v1/instance/service-accounts/default/?recursive=true (Caused by NewConnectionError('<urllib3.connection.HTTPConnection object at 0x7f6cff979790>: Failed to establish a new connection: [Errno -2] Name or service not known'))\n",
      "WARNING:google.auth.compute_engine._metadata:Compute Engine Metadata server unavailable on attempt 3 of 5. Reason: HTTPConnectionPool(host='metadata.google.internal', port=80): Max retries exceeded with url: /computeMetadata/v1/instance/service-accounts/default/?recursive=true (Caused by NewConnectionError('<urllib3.connection.HTTPConnection object at 0x7f6cff979d60>: Failed to establish a new connection: [Errno -2] Name or service not known'))\n",
      "WARNING:google.auth.compute_engine._metadata:Compute Engine Metadata server unavailable on attempt 4 of 5. Reason: HTTPConnectionPool(host='metadata.google.internal', port=80): Max retries exceeded with url: /computeMetadata/v1/instance/service-accounts/default/?recursive=true (Caused by NewConnectionError('<urllib3.connection.HTTPConnection object at 0x7f6cff979a90>: Failed to establish a new connection: [Errno -2] Name or service not known'))\n",
      "WARNING:google.auth.compute_engine._metadata:Compute Engine Metadata server unavailable on attempt 5 of 5. Reason: HTTPConnectionPool(host='metadata.google.internal', port=80): Max retries exceeded with url: /computeMetadata/v1/instance/service-accounts/default/?recursive=true (Caused by NewConnectionError('<urllib3.connection.HTTPConnection object at 0x7f6cff979400>: Failed to establish a new connection: [Errno -2] Name or service not known'))\n"
     ]
    }
   ],
   "source": [
    "#featurizer = PretrainedHFTransformer(\"Roberta-Zinc480M-102M\", notation=\"smiles\", dtype=torch.float, preload=True)\n",
    "#featurizer = PretrainedHFTransformer(kind=\"ChemBERTa-77M-MLM\", pooling=\"bert\", preload=True)\n",
    "featurizer = PretrainedHFTransformer(\"GPT2-Zinc480M-87M\", notation=\"smiles\", dtype=torch.float, preload=True)\n",
    "#featurizer = PretrainedHFTransformer(kind=\"ChemGPT-1.2B\", notation=\"selfies\", device=\"cuda:0\")\n",
    "#featurizer = PretrainedHFTransformer(kind='ChemGPT-1.2B', notation='selfies', dtype=float, device=\"cuda:0\")"
   ]
  },
  {
   "cell_type": "code",
   "execution_count": 9,
   "id": "6547e22a",
   "metadata": {},
   "outputs": [
    {
     "name": "stdout",
     "output_type": "stream",
     "text": [
      "GPU memory occupied: 2200 MB.\n"
     ]
    }
   ],
   "source": [
    "print_gpu_utilization()"
   ]
  },
  {
   "cell_type": "code",
   "execution_count": 10,
   "id": "5ba2b375",
   "metadata": {},
   "outputs": [],
   "source": [
    "df = pd.read_csv(\"https://raw.githubusercontent.com/PatWalters/yamc/main/data/JAK2.smi\",sep=\" \",names=[\"SMILES\",\"Name\",\"pIC50\"])"
   ]
  },
  {
   "cell_type": "code",
   "execution_count": 11,
   "id": "1539a4da",
   "metadata": {},
   "outputs": [
    {
     "data": {
      "text/html": [
       "<div>\n",
       "<style scoped>\n",
       "    .dataframe tbody tr th:only-of-type {\n",
       "        vertical-align: middle;\n",
       "    }\n",
       "\n",
       "    .dataframe tbody tr th {\n",
       "        vertical-align: top;\n",
       "    }\n",
       "\n",
       "    .dataframe thead th {\n",
       "        text-align: right;\n",
       "    }\n",
       "</style>\n",
       "<table border=\"1\" class=\"dataframe\">\n",
       "  <thead>\n",
       "    <tr style=\"text-align: right;\">\n",
       "      <th></th>\n",
       "      <th>SMILES</th>\n",
       "      <th>Name</th>\n",
       "      <th>pIC50</th>\n",
       "    </tr>\n",
       "  </thead>\n",
       "  <tbody>\n",
       "    <tr>\n",
       "      <th>0</th>\n",
       "      <td>CC(C)(C)c1[nH]c2c3cc[nH]c(=O)c3c4cc(ccc4c2n1)F</td>\n",
       "      <td>CHEMBL21156</td>\n",
       "      <td>8.37000</td>\n",
       "    </tr>\n",
       "    <tr>\n",
       "      <th>1</th>\n",
       "      <td>CC1CCN(CC1N(C)c2c3cc[nH]c3ncn2)C(=O)CC#N</td>\n",
       "      <td>CHEMBL221959</td>\n",
       "      <td>7.62875</td>\n",
       "    </tr>\n",
       "    <tr>\n",
       "      <th>2</th>\n",
       "      <td>CC(COC)Nc1cc(nc(n1)n2cnc3c2cncc3)c4ccoc4</td>\n",
       "      <td>CHEMBL557844</td>\n",
       "      <td>6.85000</td>\n",
       "    </tr>\n",
       "    <tr>\n",
       "      <th>3</th>\n",
       "      <td>CC(c1ccc(cc1)F)Nc2cc(nc(n2)n3cnc4c3cncc4)c5ccoc5</td>\n",
       "      <td>CHEMBL221378</td>\n",
       "      <td>7.55000</td>\n",
       "    </tr>\n",
       "    <tr>\n",
       "      <th>4</th>\n",
       "      <td>CC(c1ccccc1)Nc2cc(nc(n2)n3cnc4c3cc(cc4)C#N)c5c...</td>\n",
       "      <td>CHEMBL375205</td>\n",
       "      <td>7.54000</td>\n",
       "    </tr>\n",
       "    <tr>\n",
       "      <th>...</th>\n",
       "      <td>...</td>\n",
       "      <td>...</td>\n",
       "      <td>...</td>\n",
       "    </tr>\n",
       "    <tr>\n",
       "      <th>2247</th>\n",
       "      <td>CNCCn1c2ccc(cc2nc1C3CCC(CC3)O)C(=O)N</td>\n",
       "      <td>CHEMBL3815154</td>\n",
       "      <td>5.41000</td>\n",
       "    </tr>\n",
       "    <tr>\n",
       "      <th>2248</th>\n",
       "      <td>CC(Cn1c2ccc(cc2nc1C3CCC(CC3)O)C(=O)N)O</td>\n",
       "      <td>CHEMBL3814406</td>\n",
       "      <td>4.92000</td>\n",
       "    </tr>\n",
       "    <tr>\n",
       "      <th>2249</th>\n",
       "      <td>c1cc2c(cc1C(=O)N)nc(n2CCCO)C3CCC(CC3)O</td>\n",
       "      <td>CHEMBL3814951</td>\n",
       "      <td>4.53000</td>\n",
       "    </tr>\n",
       "    <tr>\n",
       "      <th>2250</th>\n",
       "      <td>c1cc2c(cc1C(=O)N)nc(n2CCO)C3CCC(CC3)O</td>\n",
       "      <td>CHEMBL3814293</td>\n",
       "      <td>5.50000</td>\n",
       "    </tr>\n",
       "    <tr>\n",
       "      <th>2251</th>\n",
       "      <td>Cn1cc(cn1)c2cc(c3nnc(n3c2)Sc4ccc5c(c4)c6c(cn5)...</td>\n",
       "      <td>CHEMBL3818247</td>\n",
       "      <td>4.68000</td>\n",
       "    </tr>\n",
       "  </tbody>\n",
       "</table>\n",
       "<p>2252 rows × 3 columns</p>\n",
       "</div>"
      ],
      "text/plain": [
       "                                                 SMILES           Name  \\\n",
       "0        CC(C)(C)c1[nH]c2c3cc[nH]c(=O)c3c4cc(ccc4c2n1)F    CHEMBL21156   \n",
       "1              CC1CCN(CC1N(C)c2c3cc[nH]c3ncn2)C(=O)CC#N   CHEMBL221959   \n",
       "2              CC(COC)Nc1cc(nc(n1)n2cnc3c2cncc3)c4ccoc4   CHEMBL557844   \n",
       "3      CC(c1ccc(cc1)F)Nc2cc(nc(n2)n3cnc4c3cncc4)c5ccoc5   CHEMBL221378   \n",
       "4     CC(c1ccccc1)Nc2cc(nc(n2)n3cnc4c3cc(cc4)C#N)c5c...   CHEMBL375205   \n",
       "...                                                 ...            ...   \n",
       "2247               CNCCn1c2ccc(cc2nc1C3CCC(CC3)O)C(=O)N  CHEMBL3815154   \n",
       "2248             CC(Cn1c2ccc(cc2nc1C3CCC(CC3)O)C(=O)N)O  CHEMBL3814406   \n",
       "2249             c1cc2c(cc1C(=O)N)nc(n2CCCO)C3CCC(CC3)O  CHEMBL3814951   \n",
       "2250              c1cc2c(cc1C(=O)N)nc(n2CCO)C3CCC(CC3)O  CHEMBL3814293   \n",
       "2251  Cn1cc(cn1)c2cc(c3nnc(n3c2)Sc4ccc5c(c4)c6c(cn5)...  CHEMBL3818247   \n",
       "\n",
       "        pIC50  \n",
       "0     8.37000  \n",
       "1     7.62875  \n",
       "2     6.85000  \n",
       "3     7.55000  \n",
       "4     7.54000  \n",
       "...       ...  \n",
       "2247  5.41000  \n",
       "2248  4.92000  \n",
       "2249  4.53000  \n",
       "2250  5.50000  \n",
       "2251  4.68000  \n",
       "\n",
       "[2252 rows x 3 columns]"
      ]
     },
     "execution_count": 11,
     "metadata": {},
     "output_type": "execute_result"
    }
   ],
   "source": [
    "df"
   ]
  },
  {
   "cell_type": "code",
   "execution_count": 12,
   "id": "06135ea0",
   "metadata": {},
   "outputs": [],
   "source": [
    "class DTset(Dataset):\n",
    "    def __init__(self, smiles, y, mf_featurizer):\n",
    "        super().__init__()\n",
    "        self.smiles = smiles\n",
    "        self.mf_featurizer = mf_featurizer\n",
    "        self.y = torch.tensor(y).float()\n",
    "        # here we use the molfeat mf_featurizer to convert the smiles to\n",
    "        # corresponding tokens based on the internal tokenizer\n",
    "        # we just want the data from the batch encoding object\n",
    "        self.transformed_mols = self.mf_featurizer._convert(smiles)\n",
    "\n",
    "    @property\n",
    "    def embedding_dim(self):\n",
    "        return len(self.mf_featurizer)\n",
    "\n",
    "    @property\n",
    "    def max_length(self):\n",
    "        return self.transformed_mols.shape[-1]\n",
    "    \n",
    "    def __len__(self):\n",
    "        return self.y.shape[0]\n",
    "    \n",
    "    def collate_fn(self, **kwargs):\n",
    "        # the default collate fn self.mf_featurizer.get_collate_fn(**kwargs)\n",
    "        # returns None, which should just concatenate the inputs\n",
    "        # You could also use `transformers.default_data_collator` instead\n",
    "        return self.mf_featurizer.get_collate_fn(**kwargs)\n",
    "    \n",
    "    def __getitem__(self, index):\n",
    "        datapoint = dict((name, val[index]) for name, val in self.transformed_mols.items())\n",
    "        datapoint[\"y\"] = self.y[index]\n",
    "        return datapoint"
   ]
  },
  {
   "cell_type": "code",
   "execution_count": 13,
   "id": "c9627d9e",
   "metadata": {},
   "outputs": [],
   "source": [
    "train, test = train_test_split(df)\n",
    "train_dt = DTset(train.SMILES.values, train.pIC50.values, featurizer)\n",
    "test_dt = DTset(test.SMILES.values, test.pIC50.values, featurizer)"
   ]
  },
  {
   "cell_type": "code",
   "execution_count": null,
   "id": "24135a9e",
   "metadata": {},
   "outputs": [],
   "source": [
    "#dataset = DTset(df.SMILES.values, df.pIC50.values, featurizer)\n",
    "#generator = torch.Generator().manual_seed(42)\n",
    "#train_dt, test_dt = torch.utils.data.random_split(dataset, [0.8, 0.2], generator=generator)"
   ]
  },
  {
   "cell_type": "code",
   "execution_count": 14,
   "id": "18d3c703",
   "metadata": {},
   "outputs": [],
   "source": [
    "BATCH_SIZE = 64 \n",
    "train_loader = DataLoader(train_dt, batch_size=BATCH_SIZE, shuffle=True, collate_fn=train_dt.collate_fn())\n",
    "test_loader = DataLoader(test_dt, batch_size=BATCH_SIZE, shuffle=False, collate_fn=test_dt.collate_fn())"
   ]
  },
  {
   "cell_type": "code",
   "execution_count": 15,
   "id": "094bb323",
   "metadata": {},
   "outputs": [],
   "source": [
    "class AwesomeNet(torch.nn.Module):\n",
    "    def __init__(self, mf_featurizer, hidden_size=128, dropout=0.1, output_size=1):\n",
    "        super().__init__()\n",
    "        self.hidden_size = hidden_size\n",
    "        self.output_size = output_size\n",
    "        # we get the underlying model from the molfeat featurizer\n",
    "        # here we fetch the \"base\" huggingface transformer model \n",
    "        # and not the wrapper around for MLM\n",
    "        # this is principally to get smaller model and training efficiency\n",
    "        base_pretrained_model = getattr(mf_featurizer.featurizer.model, mf_featurizer.featurizer.model.base_model_prefix)\n",
    "        self.embedding_layer = copy.deepcopy(base_pretrained_model)\n",
    "        self.embedding_dim = mf_featurizer.featurizer.model.config.hidden_size\n",
    "        # given that we are not concatenating layers, the following is equivalent\n",
    "        # self.embedding_dim = len(mf_featurizer)\n",
    "        # we get the the pooling layer from the molfeat featurizer\n",
    "        self.pooling_layer = mf_featurizer._pooling_obj\n",
    "        self.hidden_layer = torch.nn.Sequential(\n",
    "            torch.nn.Dropout(p=dropout),\n",
    "            torch.nn.Linear(len(mf_featurizer), self.hidden_size),\n",
    "            torch.nn.ReLU()\n",
    "        )\n",
    "        self.output_layer = torch.nn.Linear(self.hidden_size, self.output_size)\n",
    "\n",
    "    def forward(self, *, y=None, **kwargs):\n",
    "        # get embeddings\n",
    "        x = self.embedding_layer(**kwargs)\n",
    "        # we take the last hidden state\n",
    "        # you could also set `output_hidden_states` to true above \n",
    "        # and take x[\"hidden_states\"][-1] instead\n",
    "        emb = x[\"last_hidden_state\"]\n",
    "        # run poolings\n",
    "        h = self.pooling_layer(\n",
    "            emb,\n",
    "            kwargs[\"input_ids\"],\n",
    "            mask=kwargs.get('attention_mask'),\n",
    "        )\n",
    "        # run through our custom and optional hidden layer\n",
    "        h = self.hidden_layer(h)\n",
    "        # run through output layers to get logits\n",
    "        return self.output_layer(h)"
   ]
  },
  {
   "cell_type": "code",
   "execution_count": 16,
   "id": "b5d96fd9",
   "metadata": {},
   "outputs": [],
   "source": [
    "DEVICE = \"cuda\"\n",
    "NUM_EPOCHS = 25\n",
    "LEARNING_RATE = 1e-3\n",
    "PNA_AGGREGATORS = ['mean', 'min', 'max', 'std']\n",
    "PNA_SCALERS = ['identity', 'amplification', 'attenuation']\n",
    "\n",
    "model = AwesomeNet(featurizer, hidden_size=64, dropout=0.1, output_size=1)\n",
    "optimizer = torch.optim.Adam(model.parameters(), lr=LEARNING_RATE)\n",
    "loss_fn = torch.nn.MSELoss()"
   ]
  },
  {
   "cell_type": "code",
   "execution_count": 17,
   "id": "386c051a",
   "metadata": {},
   "outputs": [
    {
     "name": "stdout",
     "output_type": "stream",
     "text": [
      "GPU memory occupied: 2200 MB.\n"
     ]
    }
   ],
   "source": [
    "print_gpu_utilization()"
   ]
  },
  {
   "cell_type": "code",
   "execution_count": 18,
   "id": "905c3415",
   "metadata": {},
   "outputs": [],
   "source": [
    "model = model.to(DEVICE).float()\n",
    "model = model.train()"
   ]
  },
  {
   "cell_type": "code",
   "execution_count": 19,
   "id": "327c413c",
   "metadata": {},
   "outputs": [
    {
     "name": "stdout",
     "output_type": "stream",
     "text": [
      "GPU memory occupied: 3119 MB.\n"
     ]
    }
   ],
   "source": [
    "print_gpu_utilization()"
   ]
  },
  {
   "cell_type": "code",
   "execution_count": 21,
   "id": "20a89733",
   "metadata": {},
   "outputs": [
    {
     "data": {
      "application/vnd.jupyter.widget-view+json": {
       "model_id": "0b8a2f381005464a8c0bae9e9067090b",
       "version_major": 2,
       "version_minor": 0
      },
      "text/plain": [
       "  0%|          | 0/25 [00:00<?, ?it/s]"
      ]
     },
     "metadata": {},
     "output_type": "display_data"
    }
   ],
   "source": [
    "loss_per_epoch_list = []\n",
    "with tqdm(range(NUM_EPOCHS)) as pbar:\n",
    "    for epoch in pbar:\n",
    "        losses = []\n",
    "        #print_gpu_utilization()\n",
    "        for data in train_loader:\n",
    "            for k,v in data.items():\n",
    "                data[k] = data[k].to(DEVICE)\n",
    "            optimizer.zero_grad()\n",
    "            out = model(**data)\n",
    "            loss = loss_fn(out.squeeze(), data[\"y\"])\n",
    "            loss.backward()\n",
    "            optimizer.step()\n",
    "            losses.append(loss.item())\n",
    "        loss_per_epoch_list.append(np.mean(losses))\n",
    "        pbar.set_description(f\"Epoch {epoch} - Loss {np.mean(losses):.3f}\")"
   ]
  },
  {
   "cell_type": "code",
   "execution_count": 24,
   "id": "ec606c1e",
   "metadata": {
    "scrolled": false
   },
   "outputs": [
    {
     "data": {
      "image/png": "[encoded data removed]",
      "text/plain": [
       "<Figure size 640x480 with 1 Axes>"
      ]
     },
     "metadata": {},
     "output_type": "display_data"
    }
   ],
   "source": [
    "plot_x = list(range(0,len(loss_per_epoch_list)))\n",
    "plot_y = loss_per_epoch_list\n",
    "ax = sns.lineplot(x=plot_x, y=plot_y)\n",
    "ax.set_xlabel(\"Epoch\")\n",
    "ax.set_ylabel(\"Loss\");"
   ]
  },
  {
   "cell_type": "code",
   "execution_count": 23,
   "id": "b9b6b0af",
   "metadata": {
    "scrolled": true
   },
   "outputs": [
    {
     "name": "stdout",
     "output_type": "stream",
     "text": [
      "RMSE = 0.92 R**2 = 0.44\n"
     ]
    }
   ],
   "source": [
    "model.eval()\n",
    "test_y_hat = []\n",
    "test_y_true = []\n",
    "with torch.no_grad():\n",
    "    for data in test_loader:\n",
    "        for k,v in data.items():\n",
    "            data[k] = data[k].to(DEVICE)\n",
    "        out = model(**data)\n",
    "        test_y_hat.append(out.detach().cpu().squeeze())\n",
    "        test_y_true.append(data[\"y\"])\n",
    "test_y_hat = torch.cat(test_y_hat).cpu().squeeze().numpy()\n",
    "test_y_true = torch.cat(test_y_true).cpu().squeeze().numpy()\n",
    "rmse = mean_squared_error(test_y_true, test_y_hat, squared=False)\n",
    "r2 = r2_score(test_y_true, test_y_hat)\n",
    "print(f\"RMSE = {rmse:.2f} R**2 = {r2:.2f}\")"
   ]
  },
  {
   "cell_type": "code",
   "execution_count": null,
   "id": "f182cad7",
   "metadata": {},
   "outputs": [],
   "source": [
    "sns.scatterplot(x=test_y_true, y=test_y_hat);"
   ]
  },
  {
   "cell_type": "code",
   "execution_count": null,
   "id": "28600eff",
   "metadata": {},
   "outputs": [],
   "source": []
  },
  {
   "cell_type": "code",
   "execution_count": null,
   "id": "9a76920c",
   "metadata": {},
   "outputs": [],
   "source": []
  },
  {
   "cell_type": "code",
   "execution_count": null,
   "id": "e05085d4",
   "metadata": {},
   "outputs": [],
   "source": []
  }
 ],
 "metadata": {
  "kernelspec": {
   "display_name": "Python 3 (ipykernel)",
   "language": "python",
   "name": "python3"
  },
  "language_info": {
   "codemirror_mode": {
    "name": "ipython",
    "version": 3
   },
   "file_extension": ".py",
   "mimetype": "text/x-python",
   "name": "python",
   "nbconvert_exporter": "python",
   "pygments_lexer": "ipython3",
   "version": "3.10.11"
  }
 },
 "nbformat": 4,
 "nbformat_minor": 5
}
